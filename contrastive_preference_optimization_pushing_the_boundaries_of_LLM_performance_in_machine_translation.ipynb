{
  "nbformat": 4,
  "nbformat_minor": 0,
  "metadata": {
    "colab": {
      "provenance": [],
      "machine_shape": "hm",
      "gpuType": "A100"
    },
    "kernelspec": {
      "name": "python3",
      "display_name": "Python 3"
    },
    "language_info": {
      "name": "python"
    },
    "accelerator": "GPU",
    "widgets": {
      "application/vnd.jupyter.widget-state+json": {
        "b2130db7e2e747cea642d4f3903a71da": {
          "model_module": "@jupyter-widgets/controls",
          "model_name": "HBoxModel",
          "model_module_version": "1.5.0",
          "state": {
            "_dom_classes": [],
            "_model_module": "@jupyter-widgets/controls",
            "_model_module_version": "1.5.0",
            "_model_name": "HBoxModel",
            "_view_count": null,
            "_view_module": "@jupyter-widgets/controls",
            "_view_module_version": "1.5.0",
            "_view_name": "HBoxView",
            "box_style": "",
            "children": [
              "IPY_MODEL_9a791587e21148eba709e1539266a291",
              "IPY_MODEL_4a26b7e4a1cc4cf7a733ff4c358ed7a5",
              "IPY_MODEL_a17a21e61ca24c0ca6460d3cd183f3a8"
            ],
            "layout": "IPY_MODEL_d4addf7382c14a368138f8bfa87a96ab"
          }
        },
        "9a791587e21148eba709e1539266a291": {
          "model_module": "@jupyter-widgets/controls",
          "model_name": "HTMLModel",
          "model_module_version": "1.5.0",
          "state": {
            "_dom_classes": [],
            "_model_module": "@jupyter-widgets/controls",
            "_model_module_version": "1.5.0",
            "_model_name": "HTMLModel",
            "_view_count": null,
            "_view_module": "@jupyter-widgets/controls",
            "_view_module_version": "1.5.0",
            "_view_name": "HTMLView",
            "description": "",
            "description_tooltip": null,
            "layout": "IPY_MODEL_325c9653937e4f98abf8197c7e0d78a6",
            "placeholder": "​",
            "style": "IPY_MODEL_c4015795ac584f41a4e98cd9422145d8",
            "value": "Loading checkpoint shards: 100%"
          }
        },
        "4a26b7e4a1cc4cf7a733ff4c358ed7a5": {
          "model_module": "@jupyter-widgets/controls",
          "model_name": "FloatProgressModel",
          "model_module_version": "1.5.0",
          "state": {
            "_dom_classes": [],
            "_model_module": "@jupyter-widgets/controls",
            "_model_module_version": "1.5.0",
            "_model_name": "FloatProgressModel",
            "_view_count": null,
            "_view_module": "@jupyter-widgets/controls",
            "_view_module_version": "1.5.0",
            "_view_name": "ProgressView",
            "bar_style": "success",
            "description": "",
            "description_tooltip": null,
            "layout": "IPY_MODEL_b560684e169d4ed08e9858ea81ba12ae",
            "max": 3,
            "min": 0,
            "orientation": "horizontal",
            "style": "IPY_MODEL_1df9eafa2c2c4b85a54aa25a2596cadf",
            "value": 3
          }
        },
        "a17a21e61ca24c0ca6460d3cd183f3a8": {
          "model_module": "@jupyter-widgets/controls",
          "model_name": "HTMLModel",
          "model_module_version": "1.5.0",
          "state": {
            "_dom_classes": [],
            "_model_module": "@jupyter-widgets/controls",
            "_model_module_version": "1.5.0",
            "_model_name": "HTMLModel",
            "_view_count": null,
            "_view_module": "@jupyter-widgets/controls",
            "_view_module_version": "1.5.0",
            "_view_name": "HTMLView",
            "description": "",
            "description_tooltip": null,
            "layout": "IPY_MODEL_16156614b7a349c48e7ebe2dc7af51c4",
            "placeholder": "​",
            "style": "IPY_MODEL_52141b468e164d45b2fc13a410992976",
            "value": " 3/3 [00:09&lt;00:00,  2.97s/it]"
          }
        },
        "d4addf7382c14a368138f8bfa87a96ab": {
          "model_module": "@jupyter-widgets/base",
          "model_name": "LayoutModel",
          "model_module_version": "1.2.0",
          "state": {
            "_model_module": "@jupyter-widgets/base",
            "_model_module_version": "1.2.0",
            "_model_name": "LayoutModel",
            "_view_count": null,
            "_view_module": "@jupyter-widgets/base",
            "_view_module_version": "1.2.0",
            "_view_name": "LayoutView",
            "align_content": null,
            "align_items": null,
            "align_self": null,
            "border": null,
            "bottom": null,
            "display": null,
            "flex": null,
            "flex_flow": null,
            "grid_area": null,
            "grid_auto_columns": null,
            "grid_auto_flow": null,
            "grid_auto_rows": null,
            "grid_column": null,
            "grid_gap": null,
            "grid_row": null,
            "grid_template_areas": null,
            "grid_template_columns": null,
            "grid_template_rows": null,
            "height": null,
            "justify_content": null,
            "justify_items": null,
            "left": null,
            "margin": null,
            "max_height": null,
            "max_width": null,
            "min_height": null,
            "min_width": null,
            "object_fit": null,
            "object_position": null,
            "order": null,
            "overflow": null,
            "overflow_x": null,
            "overflow_y": null,
            "padding": null,
            "right": null,
            "top": null,
            "visibility": null,
            "width": null
          }
        },
        "325c9653937e4f98abf8197c7e0d78a6": {
          "model_module": "@jupyter-widgets/base",
          "model_name": "LayoutModel",
          "model_module_version": "1.2.0",
          "state": {
            "_model_module": "@jupyter-widgets/base",
            "_model_module_version": "1.2.0",
            "_model_name": "LayoutModel",
            "_view_count": null,
            "_view_module": "@jupyter-widgets/base",
            "_view_module_version": "1.2.0",
            "_view_name": "LayoutView",
            "align_content": null,
            "align_items": null,
            "align_self": null,
            "border": null,
            "bottom": null,
            "display": null,
            "flex": null,
            "flex_flow": null,
            "grid_area": null,
            "grid_auto_columns": null,
            "grid_auto_flow": null,
            "grid_auto_rows": null,
            "grid_column": null,
            "grid_gap": null,
            "grid_row": null,
            "grid_template_areas": null,
            "grid_template_columns": null,
            "grid_template_rows": null,
            "height": null,
            "justify_content": null,
            "justify_items": null,
            "left": null,
            "margin": null,
            "max_height": null,
            "max_width": null,
            "min_height": null,
            "min_width": null,
            "object_fit": null,
            "object_position": null,
            "order": null,
            "overflow": null,
            "overflow_x": null,
            "overflow_y": null,
            "padding": null,
            "right": null,
            "top": null,
            "visibility": null,
            "width": null
          }
        },
        "c4015795ac584f41a4e98cd9422145d8": {
          "model_module": "@jupyter-widgets/controls",
          "model_name": "DescriptionStyleModel",
          "model_module_version": "1.5.0",
          "state": {
            "_model_module": "@jupyter-widgets/controls",
            "_model_module_version": "1.5.0",
            "_model_name": "DescriptionStyleModel",
            "_view_count": null,
            "_view_module": "@jupyter-widgets/base",
            "_view_module_version": "1.2.0",
            "_view_name": "StyleView",
            "description_width": ""
          }
        },
        "b560684e169d4ed08e9858ea81ba12ae": {
          "model_module": "@jupyter-widgets/base",
          "model_name": "LayoutModel",
          "model_module_version": "1.2.0",
          "state": {
            "_model_module": "@jupyter-widgets/base",
            "_model_module_version": "1.2.0",
            "_model_name": "LayoutModel",
            "_view_count": null,
            "_view_module": "@jupyter-widgets/base",
            "_view_module_version": "1.2.0",
            "_view_name": "LayoutView",
            "align_content": null,
            "align_items": null,
            "align_self": null,
            "border": null,
            "bottom": null,
            "display": null,
            "flex": null,
            "flex_flow": null,
            "grid_area": null,
            "grid_auto_columns": null,
            "grid_auto_flow": null,
            "grid_auto_rows": null,
            "grid_column": null,
            "grid_gap": null,
            "grid_row": null,
            "grid_template_areas": null,
            "grid_template_columns": null,
            "grid_template_rows": null,
            "height": null,
            "justify_content": null,
            "justify_items": null,
            "left": null,
            "margin": null,
            "max_height": null,
            "max_width": null,
            "min_height": null,
            "min_width": null,
            "object_fit": null,
            "object_position": null,
            "order": null,
            "overflow": null,
            "overflow_x": null,
            "overflow_y": null,
            "padding": null,
            "right": null,
            "top": null,
            "visibility": null,
            "width": null
          }
        },
        "1df9eafa2c2c4b85a54aa25a2596cadf": {
          "model_module": "@jupyter-widgets/controls",
          "model_name": "ProgressStyleModel",
          "model_module_version": "1.5.0",
          "state": {
            "_model_module": "@jupyter-widgets/controls",
            "_model_module_version": "1.5.0",
            "_model_name": "ProgressStyleModel",
            "_view_count": null,
            "_view_module": "@jupyter-widgets/base",
            "_view_module_version": "1.2.0",
            "_view_name": "StyleView",
            "bar_color": null,
            "description_width": ""
          }
        },
        "16156614b7a349c48e7ebe2dc7af51c4": {
          "model_module": "@jupyter-widgets/base",
          "model_name": "LayoutModel",
          "model_module_version": "1.2.0",
          "state": {
            "_model_module": "@jupyter-widgets/base",
            "_model_module_version": "1.2.0",
            "_model_name": "LayoutModel",
            "_view_count": null,
            "_view_module": "@jupyter-widgets/base",
            "_view_module_version": "1.2.0",
            "_view_name": "LayoutView",
            "align_content": null,
            "align_items": null,
            "align_self": null,
            "border": null,
            "bottom": null,
            "display": null,
            "flex": null,
            "flex_flow": null,
            "grid_area": null,
            "grid_auto_columns": null,
            "grid_auto_flow": null,
            "grid_auto_rows": null,
            "grid_column": null,
            "grid_gap": null,
            "grid_row": null,
            "grid_template_areas": null,
            "grid_template_columns": null,
            "grid_template_rows": null,
            "height": null,
            "justify_content": null,
            "justify_items": null,
            "left": null,
            "margin": null,
            "max_height": null,
            "max_width": null,
            "min_height": null,
            "min_width": null,
            "object_fit": null,
            "object_position": null,
            "order": null,
            "overflow": null,
            "overflow_x": null,
            "overflow_y": null,
            "padding": null,
            "right": null,
            "top": null,
            "visibility": null,
            "width": null
          }
        },
        "52141b468e164d45b2fc13a410992976": {
          "model_module": "@jupyter-widgets/controls",
          "model_name": "DescriptionStyleModel",
          "model_module_version": "1.5.0",
          "state": {
            "_model_module": "@jupyter-widgets/controls",
            "_model_module_version": "1.5.0",
            "_model_name": "DescriptionStyleModel",
            "_view_count": null,
            "_view_module": "@jupyter-widgets/base",
            "_view_module_version": "1.2.0",
            "_view_name": "StyleView",
            "description_width": ""
          }
        }
      }
    }
  },
  "cells": [
    {
      "cell_type": "code",
      "execution_count": null,
      "metadata": {
        "id": "vVHSaVtcPOLH"
      },
      "outputs": [],
      "source": [
        "!pip install peft\n",
        "!pip install transformers\n",
        "!pip install datasets"
      ]
    },
    {
      "cell_type": "code",
      "source": [
        "import torch\n",
        "from peft import PeftModel , LoraConfig, get_peft_model\n",
        "from transformers import AutoModelForCausalLM\n",
        "from transformers import LlamaTokenizer\n",
        "from datasets import load_dataset\n",
        "import numpy as np\n",
        "import pandas as pd\n",
        "import warnings\n",
        "import torch\n",
        "import torch.nn as nn\n",
        "import torch.nn.functional as F\n",
        "import torch.optim as optim\n",
        "import json\n",
        "\n",
        "#custome loss\n",
        "from transformers import Trainer, TrainingArguments"
      ],
      "metadata": {
        "id": "3MNAFNJq3QHm"
      },
      "execution_count": 2,
      "outputs": []
    },
    {
      "cell_type": "markdown",
      "source": [
        "# **Random seed 고정**"
      ],
      "metadata": {
        "id": "BweSnW1O3vLn"
      }
    },
    {
      "cell_type": "code",
      "source": [
        "import random\n",
        "\n",
        "seed = 40\n",
        "deterministic = True\n",
        "\n",
        "random.seed(seed)\n",
        "np.random.seed(seed)\n",
        "torch.manual_seed(seed)\n",
        "torch.cuda.manual_seed_all(seed)\n",
        "if deterministic:\n",
        "  torch.backends.cudnn.deterministic = True\n",
        "  torch.backends.cudnn.benchmark = False\n",
        "warnings.filterwarnings('ignore')"
      ],
      "metadata": {
        "id": "s0fmlQg13ve2"
      },
      "execution_count": 3,
      "outputs": []
    },
    {
      "cell_type": "code",
      "source": [
        "device = torch.device(\"cuda\" if torch.cuda.is_available() else \"cpu\")"
      ],
      "metadata": {
        "id": "7nQmbQnt3xRB"
      },
      "execution_count": 4,
      "outputs": []
    },
    {
      "cell_type": "markdown",
      "source": [
        "# **dataset**"
      ],
      "metadata": {
        "id": "0KrFRYlQ2ki8"
      }
    },
    {
      "cell_type": "code",
      "source": [
        "# triplet preference data\n",
        "triplet_ds = load_dataset(\"haoranxu/ALMA-R-Preference\", \"cs-en\")"
      ],
      "metadata": {
        "id": "lLD65MW33ANI"
      },
      "execution_count": 5,
      "outputs": []
    },
    {
      "cell_type": "code",
      "source": [
        "triplet_ds"
      ],
      "metadata": {
        "colab": {
          "base_uri": "https://localhost:8080/"
        },
        "id": "FWQ021x6DddI",
        "outputId": "f1b1bd15-a0a9-4428-dbf3-b86e513127a1"
      },
      "execution_count": 6,
      "outputs": [
        {
          "output_type": "execute_result",
          "data": {
            "text/plain": [
              "DatasetDict({\n",
              "    train: Dataset({\n",
              "        features: ['translation'],\n",
              "        num_rows: 2009\n",
              "    })\n",
              "})"
            ]
          },
          "metadata": {},
          "execution_count": 6
        }
      ]
    },
    {
      "cell_type": "markdown",
      "source": [
        "policy(y_w|x) - policy(y_l|x)"
      ],
      "metadata": {
        "id": "2b07q0R1DNaP"
      }
    },
    {
      "cell_type": "code",
      "source": [
        "triplet_ds['train'][0]"
      ],
      "metadata": {
        "colab": {
          "base_uri": "https://localhost:8080/"
        },
        "id": "xtkxofwzAe5x",
        "outputId": "f0793a8f-edc4-4fe0-f944-05d0df4b14d1"
      },
      "execution_count": 7,
      "outputs": [
        {
          "output_type": "execute_result",
          "data": {
            "text/plain": [
              "{'translation': {'Delta': 0.0,\n",
              "  'alma_cs': 'V pondělí oznámili vědci z Lékařské fakulty Stanfordovy univerzity vynález nového diagnostického nástroje, který dokáže buňky třídit podle typu: malý tisknutelný čip, který lze vyrábět pomocí standardních inkoustových tiskáren za zhruba jeden cent.',\n",
              "  'alma_cs_kiwi': 0.9664803147315979,\n",
              "  'alma_cs_kiwi_xcomet': 0.9676983654499054,\n",
              "  'alma_cs_xcomet': 0.9689164161682129,\n",
              "  'alma_en': \"On Monday, scientists at Stanford University's School of Medicine announced the invention of a new diagnostic tool that can sort cells by type: a small printable chip that can be made using standard inkjet printers for about one cent apiece.\",\n",
              "  'alma_en_kiwi': 0.8873786926269531,\n",
              "  'alma_en_kiwi_xcomet': 0.9009847342967987,\n",
              "  'alma_en_xcomet': 0.9145907759666443,\n",
              "  'cs': 'V pondělí vědci z Lékařské fakulty Stanfordovy univerzity oznámili vynález nového diagnostického nástroje, který dokáže třídit buňky podle typu: malý vytisknutelný čip, který lze vyrobit pomocí standardních inkoustových tiskáren za cenu přibližně jednoho amerického centu za kus.',\n",
              "  'en': 'On Monday, scientists from the Stanford University School of Medicine announced the invention of a new diagnostic tool that can sort cells by type: a tiny printable chip that can be manufactured using standard inkjet printers for possibly about one U.S. cent each.',\n",
              "  'gpt4_cs': 'V pondělí oznámili vědci ze Stanfordovy univerzity, lékařské fakulty, vynález nového diagnostického nástroje, který dokáže třídit buňky podle typu: malý tisknutelný čip, který lze vyrábět pomocí standardních inkoustových tiskáren, možná za přibližně jeden americký cent za kus.',\n",
              "  'gpt4_cs_kiwi': 0.9655126333236694,\n",
              "  'gpt4_cs_kiwi_xcomet': 0.9511028826236725,\n",
              "  'gpt4_cs_xcomet': 0.9366931319236755,\n",
              "  'gpt4_en': 'On Monday, scientists from the Stanford University School of Medicine announced the invention of a new diagnostic tool capable of sorting cells by type: a small printable chip that can be manufactured using standard inkjet printers at a cost of approximately one US cent per piece.',\n",
              "  'gpt4_en_kiwi': 0.9277839064598083,\n",
              "  'gpt4_en_kiwi_xcomet': 0.9465547502040863,\n",
              "  'gpt4_en_xcomet': 0.9653255939483643,\n",
              "  'language_pair': 'cs-en',\n",
              "  'ref_cs_kiwi': 0.9770503640174866,\n",
              "  'ref_cs_kiwi_xcomet': 0.9820416867733002,\n",
              "  'ref_cs_xcomet': 0.9870330095291138,\n",
              "  'ref_en_kiwi': 0.9132802486419678,\n",
              "  'ref_en_kiwi_xcomet': 0.841316819190979,\n",
              "  'ref_en_xcomet': 0.7693533897399902,\n",
              "  'required_directions': ''}}"
            ]
          },
          "metadata": {},
          "execution_count": 7
        }
      ]
    },
    {
      "cell_type": "markdown",
      "source": [
        "data **preprocess**"
      ],
      "metadata": {
        "id": "oPewtsjh_MTE"
      }
    },
    {
      "cell_type": "code",
      "source": [
        "# Extract models and metrics\n",
        "models = ['alma', 'gpt4']\n",
        "#metrics = ['kiwi', 'kiwi_xcomet', 'xcomet']\n",
        "metrics=['xcomet']\n",
        "\n",
        "# Data preparation for DataFrame\n",
        "df_data = {'metric': [], 'superior_model': [], 'inferior_model': [], 'en_input': [], 'sup_cs_label': [] , 'inf_cs_label' : []}\n",
        "\n",
        "# Iterate through each metric to determine superior and inferior models\n",
        "for input_data in triplet_ds['train']:\n",
        "  input_data = input_data['translation']\n",
        "  for metric in metrics:\n",
        "    scores = {model: input_data[f\"{model}_cs_{metric}\"] for model in models}\n",
        "    superior_model = max(scores, key=scores.get)\n",
        "    inferior_model = min(scores, key=scores.get)\n",
        "    df_data['metric'].append(metric)\n",
        "    df_data['superior_model'].append(superior_model)\n",
        "    df_data['inferior_model'].append(inferior_model)\n",
        "    df_data['en_input'].append(input_data[f\"en\"])\n",
        "    df_data['sup_cs_label'].append(input_data[f\"{superior_model}_cs\"])\n",
        "    df_data['inf_cs_label'].append(input_data[f\"{inferior_model}_cs\"])\n",
        "\n",
        "# Create DataFrame\n",
        "df = pd.DataFrame(df_data)\n",
        "\n",
        "# Display DataFrame\n",
        "df"
      ],
      "metadata": {
        "colab": {
          "base_uri": "https://localhost:8080/",
          "height": 597
        },
        "id": "e7qshcal_MZj",
        "outputId": "6af42bd9-9bd3-41b3-8bf9-03f628ee4708"
      },
      "execution_count": 8,
      "outputs": [
        {
          "output_type": "execute_result",
          "data": {
            "text/plain": [
              "      metric superior_model inferior_model  \\\n",
              "0     xcomet           alma           gpt4   \n",
              "1     xcomet           gpt4           alma   \n",
              "2     xcomet           gpt4           alma   \n",
              "3     xcomet           gpt4           alma   \n",
              "4     xcomet           gpt4           alma   \n",
              "...      ...            ...            ...   \n",
              "2004  xcomet           alma           alma   \n",
              "2005  xcomet           alma           alma   \n",
              "2006  xcomet           alma           gpt4   \n",
              "2007  xcomet           gpt4           alma   \n",
              "2008  xcomet           gpt4           alma   \n",
              "\n",
              "                                               en_input  \\\n",
              "0     On Monday, scientists from the Stanford Univer...   \n",
              "1     Lead researchers say this may bring early dete...   \n",
              "2     The JAS 39C Gripen crashed onto a runway at ar...   \n",
              "3     The pilot was identified as Squadron Leader Di...   \n",
              "4     Local media reports an airport fire vehicle ro...   \n",
              "...                                                 ...   \n",
              "2004  As the areas are sparsely populated, and light...   \n",
              "2005  Japanese work culture is more hierarchical and...   \n",
              "2006  Suits are standard business attire, and cowork...   \n",
              "2007  Workplace harmony is crucial, emphasizing grou...   \n",
              "2008  Workers must often get their superiors' approv...   \n",
              "\n",
              "                                           sup_cs_label  \\\n",
              "0     V pondělí oznámili vědci z Lékařské fakulty St...   \n",
              "1     Hlavní výzkumníci uvádějí, že to může přinést ...   \n",
              "2     JAS 39C Gripen havaroval na ranvej přibližně v...   \n",
              "3     Pilot byl identifikován jako velitel letky Dil...   \n",
              "4     Místní média hlásí, že vozidlo požární ochrany...   \n",
              "...                                                 ...   \n",
              "2004  Oblasti jsou málo obydlené, takže světelné zne...   \n",
              "2005  Japonská pracovní kultura je více hierarchická...   \n",
              "2006  Společenské oblečení je běžnou součástí pracov...   \n",
              "2007  Pracovní harmonie je klíčová, když se klade dů...   \n",
              "2008  Zaměstnanci často musí získat souhlas svých na...   \n",
              "\n",
              "                                           inf_cs_label  \n",
              "0     V pondělí oznámili vědci ze Stanfordovy univer...  \n",
              "1     Hlavní výzkumníci tvrdí, že to může přinést ra...  \n",
              "2     JAS 39C Gripen se zřítil na letištní plochu v ...  \n",
              "3     Pilot byl identifikován jako Squadron Leader D...  \n",
              "4     Místní média uvádějí, že hasičské vozidlo na l...  \n",
              "...                                                 ...  \n",
              "2004  Oblasti jsou málo obydlené, takže světelné zne...  \n",
              "2005  Japonská pracovní kultura je více hierarchická...  \n",
              "2006  Obleky jsou standardní obchodní oděv a kolegov...  \n",
              "2007  Důležité je pracovní souznění, které zdůrazňuj...  \n",
              "2008  Zaměstnanci musí často získat souhlas nadřízen...  \n",
              "\n",
              "[2009 rows x 6 columns]"
            ],
            "text/html": [
              "\n",
              "  <div id=\"df-16acc5a1-cee9-4394-b91c-b4c034462f6d\" class=\"colab-df-container\">\n",
              "    <div>\n",
              "<style scoped>\n",
              "    .dataframe tbody tr th:only-of-type {\n",
              "        vertical-align: middle;\n",
              "    }\n",
              "\n",
              "    .dataframe tbody tr th {\n",
              "        vertical-align: top;\n",
              "    }\n",
              "\n",
              "    .dataframe thead th {\n",
              "        text-align: right;\n",
              "    }\n",
              "</style>\n",
              "<table border=\"1\" class=\"dataframe\">\n",
              "  <thead>\n",
              "    <tr style=\"text-align: right;\">\n",
              "      <th></th>\n",
              "      <th>metric</th>\n",
              "      <th>superior_model</th>\n",
              "      <th>inferior_model</th>\n",
              "      <th>en_input</th>\n",
              "      <th>sup_cs_label</th>\n",
              "      <th>inf_cs_label</th>\n",
              "    </tr>\n",
              "  </thead>\n",
              "  <tbody>\n",
              "    <tr>\n",
              "      <th>0</th>\n",
              "      <td>xcomet</td>\n",
              "      <td>alma</td>\n",
              "      <td>gpt4</td>\n",
              "      <td>On Monday, scientists from the Stanford Univer...</td>\n",
              "      <td>V pondělí oznámili vědci z Lékařské fakulty St...</td>\n",
              "      <td>V pondělí oznámili vědci ze Stanfordovy univer...</td>\n",
              "    </tr>\n",
              "    <tr>\n",
              "      <th>1</th>\n",
              "      <td>xcomet</td>\n",
              "      <td>gpt4</td>\n",
              "      <td>alma</td>\n",
              "      <td>Lead researchers say this may bring early dete...</td>\n",
              "      <td>Hlavní výzkumníci uvádějí, že to může přinést ...</td>\n",
              "      <td>Hlavní výzkumníci tvrdí, že to může přinést ra...</td>\n",
              "    </tr>\n",
              "    <tr>\n",
              "      <th>2</th>\n",
              "      <td>xcomet</td>\n",
              "      <td>gpt4</td>\n",
              "      <td>alma</td>\n",
              "      <td>The JAS 39C Gripen crashed onto a runway at ar...</td>\n",
              "      <td>JAS 39C Gripen havaroval na ranvej přibližně v...</td>\n",
              "      <td>JAS 39C Gripen se zřítil na letištní plochu v ...</td>\n",
              "    </tr>\n",
              "    <tr>\n",
              "      <th>3</th>\n",
              "      <td>xcomet</td>\n",
              "      <td>gpt4</td>\n",
              "      <td>alma</td>\n",
              "      <td>The pilot was identified as Squadron Leader Di...</td>\n",
              "      <td>Pilot byl identifikován jako velitel letky Dil...</td>\n",
              "      <td>Pilot byl identifikován jako Squadron Leader D...</td>\n",
              "    </tr>\n",
              "    <tr>\n",
              "      <th>4</th>\n",
              "      <td>xcomet</td>\n",
              "      <td>gpt4</td>\n",
              "      <td>alma</td>\n",
              "      <td>Local media reports an airport fire vehicle ro...</td>\n",
              "      <td>Místní média hlásí, že vozidlo požární ochrany...</td>\n",
              "      <td>Místní média uvádějí, že hasičské vozidlo na l...</td>\n",
              "    </tr>\n",
              "    <tr>\n",
              "      <th>...</th>\n",
              "      <td>...</td>\n",
              "      <td>...</td>\n",
              "      <td>...</td>\n",
              "      <td>...</td>\n",
              "      <td>...</td>\n",
              "      <td>...</td>\n",
              "    </tr>\n",
              "    <tr>\n",
              "      <th>2004</th>\n",
              "      <td>xcomet</td>\n",
              "      <td>alma</td>\n",
              "      <td>alma</td>\n",
              "      <td>As the areas are sparsely populated, and light...</td>\n",
              "      <td>Oblasti jsou málo obydlené, takže světelné zne...</td>\n",
              "      <td>Oblasti jsou málo obydlené, takže světelné zne...</td>\n",
              "    </tr>\n",
              "    <tr>\n",
              "      <th>2005</th>\n",
              "      <td>xcomet</td>\n",
              "      <td>alma</td>\n",
              "      <td>alma</td>\n",
              "      <td>Japanese work culture is more hierarchical and...</td>\n",
              "      <td>Japonská pracovní kultura je více hierarchická...</td>\n",
              "      <td>Japonská pracovní kultura je více hierarchická...</td>\n",
              "    </tr>\n",
              "    <tr>\n",
              "      <th>2006</th>\n",
              "      <td>xcomet</td>\n",
              "      <td>alma</td>\n",
              "      <td>gpt4</td>\n",
              "      <td>Suits are standard business attire, and cowork...</td>\n",
              "      <td>Společenské oblečení je běžnou součástí pracov...</td>\n",
              "      <td>Obleky jsou standardní obchodní oděv a kolegov...</td>\n",
              "    </tr>\n",
              "    <tr>\n",
              "      <th>2007</th>\n",
              "      <td>xcomet</td>\n",
              "      <td>gpt4</td>\n",
              "      <td>alma</td>\n",
              "      <td>Workplace harmony is crucial, emphasizing grou...</td>\n",
              "      <td>Pracovní harmonie je klíčová, když se klade dů...</td>\n",
              "      <td>Důležité je pracovní souznění, které zdůrazňuj...</td>\n",
              "    </tr>\n",
              "    <tr>\n",
              "      <th>2008</th>\n",
              "      <td>xcomet</td>\n",
              "      <td>gpt4</td>\n",
              "      <td>alma</td>\n",
              "      <td>Workers must often get their superiors' approv...</td>\n",
              "      <td>Zaměstnanci často musí získat souhlas svých na...</td>\n",
              "      <td>Zaměstnanci musí často získat souhlas nadřízen...</td>\n",
              "    </tr>\n",
              "  </tbody>\n",
              "</table>\n",
              "<p>2009 rows × 6 columns</p>\n",
              "</div>\n",
              "    <div class=\"colab-df-buttons\">\n",
              "\n",
              "  <div class=\"colab-df-container\">\n",
              "    <button class=\"colab-df-convert\" onclick=\"convertToInteractive('df-16acc5a1-cee9-4394-b91c-b4c034462f6d')\"\n",
              "            title=\"Convert this dataframe to an interactive table.\"\n",
              "            style=\"display:none;\">\n",
              "\n",
              "  <svg xmlns=\"http://www.w3.org/2000/svg\" height=\"24px\" viewBox=\"0 -960 960 960\">\n",
              "    <path d=\"M120-120v-720h720v720H120Zm60-500h600v-160H180v160Zm220 220h160v-160H400v160Zm0 220h160v-160H400v160ZM180-400h160v-160H180v160Zm440 0h160v-160H620v160ZM180-180h160v-160H180v160Zm440 0h160v-160H620v160Z\"/>\n",
              "  </svg>\n",
              "    </button>\n",
              "\n",
              "  <style>\n",
              "    .colab-df-container {\n",
              "      display:flex;\n",
              "      gap: 12px;\n",
              "    }\n",
              "\n",
              "    .colab-df-convert {\n",
              "      background-color: #E8F0FE;\n",
              "      border: none;\n",
              "      border-radius: 50%;\n",
              "      cursor: pointer;\n",
              "      display: none;\n",
              "      fill: #1967D2;\n",
              "      height: 32px;\n",
              "      padding: 0 0 0 0;\n",
              "      width: 32px;\n",
              "    }\n",
              "\n",
              "    .colab-df-convert:hover {\n",
              "      background-color: #E2EBFA;\n",
              "      box-shadow: 0px 1px 2px rgba(60, 64, 67, 0.3), 0px 1px 3px 1px rgba(60, 64, 67, 0.15);\n",
              "      fill: #174EA6;\n",
              "    }\n",
              "\n",
              "    .colab-df-buttons div {\n",
              "      margin-bottom: 4px;\n",
              "    }\n",
              "\n",
              "    [theme=dark] .colab-df-convert {\n",
              "      background-color: #3B4455;\n",
              "      fill: #D2E3FC;\n",
              "    }\n",
              "\n",
              "    [theme=dark] .colab-df-convert:hover {\n",
              "      background-color: #434B5C;\n",
              "      box-shadow: 0px 1px 3px 1px rgba(0, 0, 0, 0.15);\n",
              "      filter: drop-shadow(0px 1px 2px rgba(0, 0, 0, 0.3));\n",
              "      fill: #FFFFFF;\n",
              "    }\n",
              "  </style>\n",
              "\n",
              "    <script>\n",
              "      const buttonEl =\n",
              "        document.querySelector('#df-16acc5a1-cee9-4394-b91c-b4c034462f6d button.colab-df-convert');\n",
              "      buttonEl.style.display =\n",
              "        google.colab.kernel.accessAllowed ? 'block' : 'none';\n",
              "\n",
              "      async function convertToInteractive(key) {\n",
              "        const element = document.querySelector('#df-16acc5a1-cee9-4394-b91c-b4c034462f6d');\n",
              "        const dataTable =\n",
              "          await google.colab.kernel.invokeFunction('convertToInteractive',\n",
              "                                                    [key], {});\n",
              "        if (!dataTable) return;\n",
              "\n",
              "        const docLinkHtml = 'Like what you see? Visit the ' +\n",
              "          '<a target=\"_blank\" href=https://colab.research.google.com/notebooks/data_table.ipynb>data table notebook</a>'\n",
              "          + ' to learn more about interactive tables.';\n",
              "        element.innerHTML = '';\n",
              "        dataTable['output_type'] = 'display_data';\n",
              "        await google.colab.output.renderOutput(dataTable, element);\n",
              "        const docLink = document.createElement('div');\n",
              "        docLink.innerHTML = docLinkHtml;\n",
              "        element.appendChild(docLink);\n",
              "      }\n",
              "    </script>\n",
              "  </div>\n",
              "\n",
              "\n",
              "<div id=\"df-ee9b1fe9-ff1e-41a3-987f-4b0dc57c6bf2\">\n",
              "  <button class=\"colab-df-quickchart\" onclick=\"quickchart('df-ee9b1fe9-ff1e-41a3-987f-4b0dc57c6bf2')\"\n",
              "            title=\"Suggest charts\"\n",
              "            style=\"display:none;\">\n",
              "\n",
              "<svg xmlns=\"http://www.w3.org/2000/svg\" height=\"24px\"viewBox=\"0 0 24 24\"\n",
              "     width=\"24px\">\n",
              "    <g>\n",
              "        <path d=\"M19 3H5c-1.1 0-2 .9-2 2v14c0 1.1.9 2 2 2h14c1.1 0 2-.9 2-2V5c0-1.1-.9-2-2-2zM9 17H7v-7h2v7zm4 0h-2V7h2v10zm4 0h-2v-4h2v4z\"/>\n",
              "    </g>\n",
              "</svg>\n",
              "  </button>\n",
              "\n",
              "<style>\n",
              "  .colab-df-quickchart {\n",
              "      --bg-color: #E8F0FE;\n",
              "      --fill-color: #1967D2;\n",
              "      --hover-bg-color: #E2EBFA;\n",
              "      --hover-fill-color: #174EA6;\n",
              "      --disabled-fill-color: #AAA;\n",
              "      --disabled-bg-color: #DDD;\n",
              "  }\n",
              "\n",
              "  [theme=dark] .colab-df-quickchart {\n",
              "      --bg-color: #3B4455;\n",
              "      --fill-color: #D2E3FC;\n",
              "      --hover-bg-color: #434B5C;\n",
              "      --hover-fill-color: #FFFFFF;\n",
              "      --disabled-bg-color: #3B4455;\n",
              "      --disabled-fill-color: #666;\n",
              "  }\n",
              "\n",
              "  .colab-df-quickchart {\n",
              "    background-color: var(--bg-color);\n",
              "    border: none;\n",
              "    border-radius: 50%;\n",
              "    cursor: pointer;\n",
              "    display: none;\n",
              "    fill: var(--fill-color);\n",
              "    height: 32px;\n",
              "    padding: 0;\n",
              "    width: 32px;\n",
              "  }\n",
              "\n",
              "  .colab-df-quickchart:hover {\n",
              "    background-color: var(--hover-bg-color);\n",
              "    box-shadow: 0 1px 2px rgba(60, 64, 67, 0.3), 0 1px 3px 1px rgba(60, 64, 67, 0.15);\n",
              "    fill: var(--button-hover-fill-color);\n",
              "  }\n",
              "\n",
              "  .colab-df-quickchart-complete:disabled,\n",
              "  .colab-df-quickchart-complete:disabled:hover {\n",
              "    background-color: var(--disabled-bg-color);\n",
              "    fill: var(--disabled-fill-color);\n",
              "    box-shadow: none;\n",
              "  }\n",
              "\n",
              "  .colab-df-spinner {\n",
              "    border: 2px solid var(--fill-color);\n",
              "    border-color: transparent;\n",
              "    border-bottom-color: var(--fill-color);\n",
              "    animation:\n",
              "      spin 1s steps(1) infinite;\n",
              "  }\n",
              "\n",
              "  @keyframes spin {\n",
              "    0% {\n",
              "      border-color: transparent;\n",
              "      border-bottom-color: var(--fill-color);\n",
              "      border-left-color: var(--fill-color);\n",
              "    }\n",
              "    20% {\n",
              "      border-color: transparent;\n",
              "      border-left-color: var(--fill-color);\n",
              "      border-top-color: var(--fill-color);\n",
              "    }\n",
              "    30% {\n",
              "      border-color: transparent;\n",
              "      border-left-color: var(--fill-color);\n",
              "      border-top-color: var(--fill-color);\n",
              "      border-right-color: var(--fill-color);\n",
              "    }\n",
              "    40% {\n",
              "      border-color: transparent;\n",
              "      border-right-color: var(--fill-color);\n",
              "      border-top-color: var(--fill-color);\n",
              "    }\n",
              "    60% {\n",
              "      border-color: transparent;\n",
              "      border-right-color: var(--fill-color);\n",
              "    }\n",
              "    80% {\n",
              "      border-color: transparent;\n",
              "      border-right-color: var(--fill-color);\n",
              "      border-bottom-color: var(--fill-color);\n",
              "    }\n",
              "    90% {\n",
              "      border-color: transparent;\n",
              "      border-bottom-color: var(--fill-color);\n",
              "    }\n",
              "  }\n",
              "</style>\n",
              "\n",
              "  <script>\n",
              "    async function quickchart(key) {\n",
              "      const quickchartButtonEl =\n",
              "        document.querySelector('#' + key + ' button');\n",
              "      quickchartButtonEl.disabled = true;  // To prevent multiple clicks.\n",
              "      quickchartButtonEl.classList.add('colab-df-spinner');\n",
              "      try {\n",
              "        const charts = await google.colab.kernel.invokeFunction(\n",
              "            'suggestCharts', [key], {});\n",
              "      } catch (error) {\n",
              "        console.error('Error during call to suggestCharts:', error);\n",
              "      }\n",
              "      quickchartButtonEl.classList.remove('colab-df-spinner');\n",
              "      quickchartButtonEl.classList.add('colab-df-quickchart-complete');\n",
              "    }\n",
              "    (() => {\n",
              "      let quickchartButtonEl =\n",
              "        document.querySelector('#df-ee9b1fe9-ff1e-41a3-987f-4b0dc57c6bf2 button');\n",
              "      quickchartButtonEl.style.display =\n",
              "        google.colab.kernel.accessAllowed ? 'block' : 'none';\n",
              "    })();\n",
              "  </script>\n",
              "</div>\n",
              "\n",
              "  <div id=\"id_8e8a6c23-5ada-4c3f-8861-dfa97889f06e\">\n",
              "    <style>\n",
              "      .colab-df-generate {\n",
              "        background-color: #E8F0FE;\n",
              "        border: none;\n",
              "        border-radius: 50%;\n",
              "        cursor: pointer;\n",
              "        display: none;\n",
              "        fill: #1967D2;\n",
              "        height: 32px;\n",
              "        padding: 0 0 0 0;\n",
              "        width: 32px;\n",
              "      }\n",
              "\n",
              "      .colab-df-generate:hover {\n",
              "        background-color: #E2EBFA;\n",
              "        box-shadow: 0px 1px 2px rgba(60, 64, 67, 0.3), 0px 1px 3px 1px rgba(60, 64, 67, 0.15);\n",
              "        fill: #174EA6;\n",
              "      }\n",
              "\n",
              "      [theme=dark] .colab-df-generate {\n",
              "        background-color: #3B4455;\n",
              "        fill: #D2E3FC;\n",
              "      }\n",
              "\n",
              "      [theme=dark] .colab-df-generate:hover {\n",
              "        background-color: #434B5C;\n",
              "        box-shadow: 0px 1px 3px 1px rgba(0, 0, 0, 0.15);\n",
              "        filter: drop-shadow(0px 1px 2px rgba(0, 0, 0, 0.3));\n",
              "        fill: #FFFFFF;\n",
              "      }\n",
              "    </style>\n",
              "    <button class=\"colab-df-generate\" onclick=\"generateWithVariable('df')\"\n",
              "            title=\"Generate code using this dataframe.\"\n",
              "            style=\"display:none;\">\n",
              "\n",
              "  <svg xmlns=\"http://www.w3.org/2000/svg\" height=\"24px\"viewBox=\"0 0 24 24\"\n",
              "       width=\"24px\">\n",
              "    <path d=\"M7,19H8.4L18.45,9,17,7.55,7,17.6ZM5,21V16.75L18.45,3.32a2,2,0,0,1,2.83,0l1.4,1.43a1.91,1.91,0,0,1,.58,1.4,1.91,1.91,0,0,1-.58,1.4L9.25,21ZM18.45,9,17,7.55Zm-12,3A5.31,5.31,0,0,0,4.9,8.1,5.31,5.31,0,0,0,1,6.5,5.31,5.31,0,0,0,4.9,4.9,5.31,5.31,0,0,0,6.5,1,5.31,5.31,0,0,0,8.1,4.9,5.31,5.31,0,0,0,12,6.5,5.46,5.46,0,0,0,6.5,12Z\"/>\n",
              "  </svg>\n",
              "    </button>\n",
              "    <script>\n",
              "      (() => {\n",
              "      const buttonEl =\n",
              "        document.querySelector('#id_8e8a6c23-5ada-4c3f-8861-dfa97889f06e button.colab-df-generate');\n",
              "      buttonEl.style.display =\n",
              "        google.colab.kernel.accessAllowed ? 'block' : 'none';\n",
              "\n",
              "      buttonEl.onclick = () => {\n",
              "        google.colab.notebook.generateWithVariable('df');\n",
              "      }\n",
              "      })();\n",
              "    </script>\n",
              "  </div>\n",
              "\n",
              "    </div>\n",
              "  </div>\n"
            ],
            "application/vnd.google.colaboratory.intrinsic+json": {
              "type": "dataframe",
              "variable_name": "df",
              "summary": "{\n  \"name\": \"df\",\n  \"rows\": 2009,\n  \"fields\": [\n    {\n      \"column\": \"metric\",\n      \"properties\": {\n        \"dtype\": \"category\",\n        \"num_unique_values\": 1,\n        \"samples\": [\n          \"xcomet\"\n        ],\n        \"semantic_type\": \"\",\n        \"description\": \"\"\n      }\n    },\n    {\n      \"column\": \"superior_model\",\n      \"properties\": {\n        \"dtype\": \"category\",\n        \"num_unique_values\": 2,\n        \"samples\": [\n          \"gpt4\"\n        ],\n        \"semantic_type\": \"\",\n        \"description\": \"\"\n      }\n    },\n    {\n      \"column\": \"inferior_model\",\n      \"properties\": {\n        \"dtype\": \"category\",\n        \"num_unique_values\": 2,\n        \"samples\": [\n          \"alma\"\n        ],\n        \"semantic_type\": \"\",\n        \"description\": \"\"\n      }\n    },\n    {\n      \"column\": \"en_input\",\n      \"properties\": {\n        \"dtype\": \"string\",\n        \"num_unique_values\": 2009,\n        \"samples\": [\n          \"Many observed rhythms in physiology and behavior often crucially depend on the presence of endogenous cycles and their production through biological clocks.\"\n        ],\n        \"semantic_type\": \"\",\n        \"description\": \"\"\n      }\n    },\n    {\n      \"column\": \"sup_cs_label\",\n      \"properties\": {\n        \"dtype\": \"string\",\n        \"num_unique_values\": 2009,\n        \"samples\": [\n          \"Mnoho pozorovan\\u00fdch rytm\\u016f v fyziologii a chov\\u00e1n\\u00ed \\u010dasto z\\u00e1vis\\u00ed na p\\u0159\\u00edtomnosti vlastn\\u00edch cykl\\u016f a jejich produkci prost\\u0159ednictv\\u00edm biologick\\u00fdch hodin.\"\n        ],\n        \"semantic_type\": \"\",\n        \"description\": \"\"\n      }\n    },\n    {\n      \"column\": \"inf_cs_label\",\n      \"properties\": {\n        \"dtype\": \"string\",\n        \"num_unique_values\": 2009,\n        \"samples\": [\n          \"Mnoho pozorovan\\u00fdch rytm\\u016f v fyziologii a chov\\u00e1n\\u00ed \\u010dasto z\\u00e1vis\\u00ed na p\\u0159\\u00edtomnosti vlastn\\u00edch cykl\\u016f a jejich produkci prost\\u0159ednictv\\u00edm biologick\\u00fdch hodin.\"\n        ],\n        \"semantic_type\": \"\",\n        \"description\": \"\"\n      }\n    }\n  ]\n}"
            }
          },
          "metadata": {},
          "execution_count": 8
        }
      ]
    },
    {
      "cell_type": "markdown",
      "source": [
        "google drive mount"
      ],
      "metadata": {
        "id": "IqDZFrbnWYVO"
      }
    },
    {
      "cell_type": "code",
      "source": [
        "from google.colab import drive\n",
        "\n",
        "# Google Drive를 마운트\n",
        "drive.mount('/content/drive')"
      ],
      "metadata": {
        "colab": {
          "base_uri": "https://localhost:8080/"
        },
        "id": "GlDgX0INWYe5",
        "outputId": "9d74dc3b-2fe7-497a-a9ae-d57689b42da4"
      },
      "execution_count": 9,
      "outputs": [
        {
          "output_type": "stream",
          "name": "stdout",
          "text": [
            "Drive already mounted at /content/drive; to attempt to forcibly remount, call drive.mount(\"/content/drive\", force_remount=True).\n"
          ]
        }
      ]
    },
    {
      "cell_type": "markdown",
      "source": [
        "drive에 데이터 저장"
      ],
      "metadata": {
        "id": "EVgZT8Y7E4wU"
      }
    },
    {
      "cell_type": "code",
      "source": [
        "# Drive에 저장할 경로\n",
        "train_save_path_triplet = '/content/drive/My Drive/df.csv'\n",
        "\n",
        "# CSV 파일로 저장\n",
        "df.to_csv(train_save_path_triplet)"
      ],
      "metadata": {
        "id": "PGrWkL7OE6bb"
      },
      "execution_count": 10,
      "outputs": []
    },
    {
      "cell_type": "code",
      "source": [
        "df_train_triplet = pd.read_csv(train_save_path_triplet)\n",
        "\n",
        "#df_train = pd.concat([df_train_hf, df_train_triplet], ignore_index=False)\n",
        "df_train = pd.DataFrame(df_train_triplet)"
      ],
      "metadata": {
        "id": "e6nPudF-Dw8q"
      },
      "execution_count": 11,
      "outputs": []
    },
    {
      "cell_type": "code",
      "source": [
        "for _, row in df_train.iterrows():\n",
        "  print(row)\n",
        "  break"
      ],
      "metadata": {
        "colab": {
          "base_uri": "https://localhost:8080/"
        },
        "id": "cyEwRYgq7wM7",
        "outputId": "63d41d10-e743-4afc-da31-b8c3f43c797a"
      },
      "execution_count": 12,
      "outputs": [
        {
          "output_type": "stream",
          "name": "stdout",
          "text": [
            "Unnamed: 0                                                        0\n",
            "metric                                                       xcomet\n",
            "superior_model                                                 alma\n",
            "inferior_model                                                 gpt4\n",
            "en_input          On Monday, scientists from the Stanford Univer...\n",
            "sup_cs_label      V pondělí oznámili vědci z Lékařské fakulty St...\n",
            "inf_cs_label      V pondělí oznámili vědci ze Stanfordovy univer...\n",
            "Name: 0, dtype: object\n"
          ]
        }
      ]
    },
    {
      "cell_type": "code",
      "source": [
        "train_data = [\n",
        "    {\n",
        "        \"User\": f\"Translate this from en to cs: en : {row['en_input']}\",\n",
        "        \"sup_label\": f\"{row['sup_cs_label']}\",\n",
        "        \"inf_label\": f\"{row['inf_cs_label']}\"\n",
        "    }\n",
        "    for _, row in df_train.iterrows()\n",
        "]"
      ],
      "metadata": {
        "id": "pluuRwIRMpZ_"
      },
      "execution_count": 13,
      "outputs": []
    },
    {
      "cell_type": "markdown",
      "source": [
        "# **model lora**"
      ],
      "metadata": {
        "id": "C2v1nQol38Io"
      }
    },
    {
      "cell_type": "markdown",
      "source": [
        "rank is 16 and added paramters are only 12M parameters"
      ],
      "metadata": {
        "id": "e_Q6pSpm7enM"
      }
    },
    {
      "cell_type": "code",
      "source": [
        "# LoRA 설정\n",
        "lora_config = LoraConfig(\n",
        "    r=16,  # Low-rank 업데이트 행렬 차원\n",
        "    lora_alpha=16,  # 스케일링 팩터\n",
        "    lora_dropout=0.1,  # 드롭아웃 비율\n",
        "    target_modules=[\"q_proj\", \"k_proj\", \"v_proj\", \"out_proj\"],  # QLoRA가 적용될 대상 모듈\n",
        ")"
      ],
      "metadata": {
        "id": "f1Bhhz8t3-vG"
      },
      "execution_count": 14,
      "outputs": []
    },
    {
      "cell_type": "markdown",
      "source": [
        "# **model def**"
      ],
      "metadata": {
        "id": "QpbM0fcT27tR"
      }
    },
    {
      "cell_type": "code",
      "source": [
        "# Load base model and LoRA weights\n",
        "model_name = \"haoranxu/ALMA-7B-Pretrain\"\n",
        "\n",
        "base_model = AutoModelForCausalLM.from_pretrained(model_name,\n",
        "                                             device_map=\"auto\",             # GPU와 CPU를 자동 분배\n",
        "                                             torch_dtype=\"auto\",            # 자동으로 적절한 데이터 타입(FP32, FP16 등) 선택\n",
        "                                             offload_folder=\"./offload\",    # 메모리가 부족할 경우 CPU로 데이터를 오프로드\n",
        "                                             offload_state_dict=True)        # 가중치도 필요 시 CPU로 오프로드)\n",
        "\n",
        "#기존 model freeze\n",
        "for param in base_model.parameters():\n",
        "    param.requires_grad = False\n",
        "\n",
        "model = get_peft_model(base_model, lora_config)\n",
        "tokenizer = LlamaTokenizer.from_pretrained(\"haoranxu/ALMA-7B-Pretrain\", padding_side='left')"
      ],
      "metadata": {
        "id": "MWtIUTkA271A",
        "colab": {
          "base_uri": "https://localhost:8080/",
          "height": 49,
          "referenced_widgets": [
            "b2130db7e2e747cea642d4f3903a71da",
            "9a791587e21148eba709e1539266a291",
            "4a26b7e4a1cc4cf7a733ff4c358ed7a5",
            "a17a21e61ca24c0ca6460d3cd183f3a8",
            "d4addf7382c14a368138f8bfa87a96ab",
            "325c9653937e4f98abf8197c7e0d78a6",
            "c4015795ac584f41a4e98cd9422145d8",
            "b560684e169d4ed08e9858ea81ba12ae",
            "1df9eafa2c2c4b85a54aa25a2596cadf",
            "16156614b7a349c48e7ebe2dc7af51c4",
            "52141b468e164d45b2fc13a410992976"
          ]
        },
        "outputId": "f3577cee-c407-40f9-c4d9-52a2f4b0b9f5"
      },
      "execution_count": 15,
      "outputs": [
        {
          "output_type": "display_data",
          "data": {
            "text/plain": [
              "Loading checkpoint shards:   0%|          | 0/3 [00:00<?, ?it/s]"
            ],
            "application/vnd.jupyter.widget-view+json": {
              "version_major": 2,
              "version_minor": 0,
              "model_id": "b2130db7e2e747cea642d4f3903a71da"
            }
          },
          "metadata": {}
        }
      ]
    },
    {
      "cell_type": "markdown",
      "source": [
        "print really 12M parameteres are added"
      ],
      "metadata": {
        "id": "Rbw4WgfN8ZxR"
      }
    },
    {
      "cell_type": "code",
      "source": [
        "..."
      ],
      "metadata": {
        "id": "4KMPBjFe8Z6x",
        "colab": {
          "base_uri": "https://localhost:8080/"
        },
        "outputId": "65f9a7cf-d68a-4081-b566-ca16dbacdd4e"
      },
      "execution_count": 16,
      "outputs": [
        {
          "output_type": "execute_result",
          "data": {
            "text/plain": [
              "Ellipsis"
            ]
          },
          "metadata": {},
          "execution_count": 16
        }
      ]
    },
    {
      "cell_type": "markdown",
      "source": [
        "# **token화**"
      ],
      "metadata": {
        "id": "ogRdVzCX9hlH"
      }
    },
    {
      "cell_type": "code",
      "source": [
        "max_label_length = 80\n",
        "\n",
        "def replace_padding_with_ignore(labels, padding_value=128001, ignore_value=-100):\n",
        "    \"\"\"\n",
        "    라벨에서 지정된 패딩 값을 -100으로 변환합니다.\n",
        "    \"\"\"\n",
        "    return [ignore_value if token == padding_value else token for token in labels]\n",
        "\n",
        "# input_ids, attention_mask, labels 생성\n",
        "tokenized_data = [\n",
        "    {\n",
        "        **tokenizer(\n",
        "            f\"{item['User']} + {item['User']}\",\n",
        "            padding='max_length',\n",
        "            truncation=True,\n",
        "            max_length=max_label_length\n",
        "        ),\n",
        "        'labels':\n",
        "            tokenizer(\n",
        "                item['sup_label'] + item['inf_label'],\n",
        "                padding='max_length',\n",
        "                truncation=True,\n",
        "                max_length=max_label_length\n",
        "            )['input_ids']\n",
        "            }\n",
        "    for item in train_data\n",
        "]\n",
        "\n",
        "# 결과 확인\n",
        "print(tokenized_data[:1])  # 앞의 두 개만 출력"
      ],
      "metadata": {
        "id": "W9LHd7KY9hq2"
      },
      "execution_count": null,
      "outputs": []
    },
    {
      "cell_type": "markdown",
      "source": [
        "# **model training**"
      ],
      "metadata": {
        "id": "8JSGL8vA834g"
      }
    },
    {
      "cell_type": "markdown",
      "source": [
        "custome loss class"
      ],
      "metadata": {
        "id": "Jg_j51s79zM2"
      }
    },
    {
      "cell_type": "code",
      "source": [
        "class CustomTrainer(Trainer):\n",
        "  def compute_loss(self, model, inputs , num_items_in_batch=None):\n",
        "    sigmoid = nn.Sigmoid()\n",
        "    softmax = nn.Softmax()\n",
        "    kl_divergence = nn.KLDivLoss(reduction='batchmean')\n",
        "    \"\"\"\n",
        "    Custom loss function implementation.\n",
        "    Args:\n",
        "        model: The model being trained.\n",
        "        inputs: The inputs to the model (e.g., input_ids, attention_mask, labels).\n",
        "        return_outputs: If True, also return model outputs.\n",
        "    Returns:\n",
        "        The computed loss (and optionally model outputs).\n",
        "    \"\"\"\n",
        "    label = inputs['labels'].float()\n",
        "    label = label[0,:40]\n",
        "\n",
        "    # Forward pass\n",
        "    outputs = model(**inputs, max_new_tokens=80)\n",
        "    outputs = outputs[1] # batch_size , seq_len , vocab_size\n",
        "    sup_outputs = outputs[0,:40,:]\n",
        "    inf_outputs = outputs[0,40:,:]\n",
        "    sup_probs = softmax(sup_outputs)\n",
        "    inf_probs = softmax(inf_outputs)\n",
        "    cloning_sup_probs = sup_probs.clone()\n",
        "\n",
        "    # Custom loss computation\n",
        "    loss_prefer = -torch.log(sigmoid(0.1*torch.log(sup_probs) - 0.1*torch.log(inf_probs)))\n",
        "\n",
        "    #constraint\n",
        "    kl_loss = -torch.log(cloning_sup_probs)\n",
        "\n",
        "    #negative log\n",
        "    #nll_loss = -torch.log(sup_probs)\n",
        "\n",
        "    loss = loss_prefer + 2 * kl_loss\n",
        "\n",
        "    loss = loss / 128\n",
        "    loss = loss.mean()\n",
        "\n",
        "    return loss"
      ],
      "metadata": {
        "id": "4gv7fPpR84Ak"
      },
      "execution_count": 18,
      "outputs": []
    },
    {
      "cell_type": "markdown",
      "source": [
        "trainer configuration"
      ],
      "metadata": {
        "id": "gTrBytWN95h0"
      }
    },
    {
      "cell_type": "markdown",
      "source": [
        "deepspeed tool은 integrate하지 않음"
      ],
      "metadata": {
        "id": "9xulkWI1BID4"
      }
    },
    {
      "cell_type": "code",
      "source": [
        "training_args = TrainingArguments(\n",
        "    output_dir=\"./results\",\n",
        "    overwrite_output_dir=True,\n",
        "    per_device_train_batch_size=1,\n",
        "    num_train_epochs=2,\n",
        "    logging_dir='./logs',\n",
        "    logging_steps=10,\n",
        "    gradient_accumulation_steps=128,\n",
        "    learning_rate=1e-5,\n",
        "    fp16=True,\n",
        "    warmup_ratio=0.01,  # Warm-up ratio 추가\n",
        ")"
      ],
      "metadata": {
        "id": "xLGB2VHW95qQ"
      },
      "execution_count": 19,
      "outputs": []
    },
    {
      "cell_type": "code",
      "source": [
        "trainer = CustomTrainer(\n",
        "    model=model,\n",
        "    args=training_args,\n",
        "    train_dataset=tokenized_data\n",
        ")"
      ],
      "metadata": {
        "id": "08gIyIn39--y"
      },
      "execution_count": 20,
      "outputs": []
    },
    {
      "cell_type": "code",
      "source": [
        "# 훈련 시작\n",
        "trainer.train()"
      ],
      "metadata": {
        "id": "iid8RXHH9_j-",
        "colab": {
          "base_uri": "https://localhost:8080/",
          "height": 363
        },
        "outputId": "85436878-f1c6-4d36-d820-d7258ce4bb26"
      },
      "execution_count": 21,
      "outputs": [
        {
          "output_type": "stream",
          "name": "stderr",
          "text": [
            "\u001b[34m\u001b[1mwandb\u001b[0m: \u001b[33mWARNING\u001b[0m The `run_name` is currently set to the same value as `TrainingArguments.output_dir`. If this was not intended, please specify a different run name by setting the `TrainingArguments.run_name` parameter.\n",
            "\u001b[34m\u001b[1mwandb\u001b[0m: Using wandb-core as the SDK backend.  Please refer to https://wandb.me/wandb-core for more information.\n",
            "\u001b[34m\u001b[1mwandb\u001b[0m: Currently logged in as: \u001b[33mqnckdrb14\u001b[0m (\u001b[33mqnckdrb14-does-not-exist\u001b[0m). Use \u001b[1m`wandb login --relogin`\u001b[0m to force relogin\n"
          ]
        },
        {
          "output_type": "display_data",
          "data": {
            "text/plain": [
              "<IPython.core.display.HTML object>"
            ],
            "text/html": [
              "Tracking run with wandb version 0.18.7"
            ]
          },
          "metadata": {}
        },
        {
          "output_type": "display_data",
          "data": {
            "text/plain": [
              "<IPython.core.display.HTML object>"
            ],
            "text/html": [
              "Run data is saved locally in <code>/content/wandb/run-20241201_154956-wuuu4d1i</code>"
            ]
          },
          "metadata": {}
        },
        {
          "output_type": "display_data",
          "data": {
            "text/plain": [
              "<IPython.core.display.HTML object>"
            ],
            "text/html": [
              "Syncing run <strong><a href='https://wandb.ai/qnckdrb14-does-not-exist/huggingface/runs/wuuu4d1i' target=\"_blank\">./results</a></strong> to <a href='https://wandb.ai/qnckdrb14-does-not-exist/huggingface' target=\"_blank\">Weights & Biases</a> (<a href='https://wandb.me/developer-guide' target=\"_blank\">docs</a>)<br/>"
            ]
          },
          "metadata": {}
        },
        {
          "output_type": "display_data",
          "data": {
            "text/plain": [
              "<IPython.core.display.HTML object>"
            ],
            "text/html": [
              " View project at <a href='https://wandb.ai/qnckdrb14-does-not-exist/huggingface' target=\"_blank\">https://wandb.ai/qnckdrb14-does-not-exist/huggingface</a>"
            ]
          },
          "metadata": {}
        },
        {
          "output_type": "display_data",
          "data": {
            "text/plain": [
              "<IPython.core.display.HTML object>"
            ],
            "text/html": [
              " View run at <a href='https://wandb.ai/qnckdrb14-does-not-exist/huggingface/runs/wuuu4d1i' target=\"_blank\">https://wandb.ai/qnckdrb14-does-not-exist/huggingface/runs/wuuu4d1i</a>"
            ]
          },
          "metadata": {}
        },
        {
          "output_type": "display_data",
          "data": {
            "text/plain": [
              "<IPython.core.display.HTML object>"
            ],
            "text/html": [
              "\n",
              "    <div>\n",
              "      \n",
              "      <progress value='30' max='30' style='width:300px; height:20px; vertical-align: middle;'></progress>\n",
              "      [30/30 11:17, Epoch 1/2]\n",
              "    </div>\n",
              "    <table border=\"1\" class=\"dataframe\">\n",
              "  <thead>\n",
              " <tr style=\"text-align: left;\">\n",
              "      <th>Step</th>\n",
              "      <th>Training Loss</th>\n",
              "    </tr>\n",
              "  </thead>\n",
              "  <tbody>\n",
              "    <tr>\n",
              "      <td>10</td>\n",
              "      <td>39.148000</td>\n",
              "    </tr>\n",
              "    <tr>\n",
              "      <td>20</td>\n",
              "      <td>39.964700</td>\n",
              "    </tr>\n",
              "    <tr>\n",
              "      <td>30</td>\n",
              "      <td>33.372500</td>\n",
              "    </tr>\n",
              "  </tbody>\n",
              "</table><p>"
            ]
          },
          "metadata": {}
        },
        {
          "output_type": "execute_result",
          "data": {
            "text/plain": [
              "TrainOutput(global_step=30, training_loss=37.49505513509114, metrics={'train_runtime': 706.7996, 'train_samples_per_second': 5.685, 'train_steps_per_second': 0.042, 'total_flos': 1.22018485764096e+16, 'train_loss': 37.49505513509114, 'epoch': 1.911398705823793})"
            ]
          },
          "metadata": {},
          "execution_count": 21
        }
      ]
    },
    {
      "cell_type": "markdown",
      "source": [
        "# **Experiment**"
      ],
      "metadata": {
        "id": "quZrU-OlBswr"
      }
    },
    {
      "cell_type": "markdown",
      "source": [
        "evaluation model"
      ],
      "metadata": {
        "id": "7myj-yDHF25T"
      }
    },
    {
      "cell_type": "code",
      "source": [
        "evaluate_tokenizer = AutoTokenizer.from_pretrained(\"Unbabel/xcomet\")\n",
        "evaluate_model = AutoModelForSequenceClassification.from_pretrained(\"Unbabel/xcomet\")"
      ],
      "metadata": {
        "id": "-jaA5kmEBxdC",
        "colab": {
          "base_uri": "https://localhost:8080/",
          "height": 159
        },
        "outputId": "669b265d-e73d-4753-fceb-d3027a23f2f6"
      },
      "execution_count": 22,
      "outputs": [
        {
          "output_type": "error",
          "ename": "NameError",
          "evalue": "name 'AutoTokenizer' is not defined",
          "traceback": [
            "\u001b[0;31m---------------------------------------------------------------------------\u001b[0m",
            "\u001b[0;31mNameError\u001b[0m                                 Traceback (most recent call last)",
            "\u001b[0;32m<ipython-input-22-935484b7be3e>\u001b[0m in \u001b[0;36m<cell line: 1>\u001b[0;34m()\u001b[0m\n\u001b[0;32m----> 1\u001b[0;31m \u001b[0mtokenizer\u001b[0m \u001b[0;34m=\u001b[0m \u001b[0mAutoTokenizer\u001b[0m\u001b[0;34m.\u001b[0m\u001b[0mfrom_pretrained\u001b[0m\u001b[0;34m(\u001b[0m\u001b[0;34m\"Unbabel/xcomet\"\u001b[0m\u001b[0;34m)\u001b[0m\u001b[0;34m\u001b[0m\u001b[0;34m\u001b[0m\u001b[0m\n\u001b[0m\u001b[1;32m      2\u001b[0m \u001b[0mmodel\u001b[0m \u001b[0;34m=\u001b[0m \u001b[0mAutoModelForSequenceClassification\u001b[0m\u001b[0;34m.\u001b[0m\u001b[0mfrom_pretrained\u001b[0m\u001b[0;34m(\u001b[0m\u001b[0;34m\"Unbabel/xcomet\"\u001b[0m\u001b[0;34m)\u001b[0m\u001b[0;34m\u001b[0m\u001b[0;34m\u001b[0m\u001b[0m\n",
            "\u001b[0;31mNameError\u001b[0m: name 'AutoTokenizer' is not defined"
          ]
        }
      ]
    },
    {
      "cell_type": "code",
      "source": [
        "# 원문(source)와 번역(hypothesis) 준비\n",
        "source = \"This is an example of the original text.\"\n",
        "hypothesis = \"This is an example of translated text.\""
      ],
      "metadata": {
        "id": "awEjNlzEF9a7"
      },
      "execution_count": null,
      "outputs": []
    },
    {
      "cell_type": "code",
      "source": [
        "# 원문과 번역문을 하나로 결합하여 토크나이즈\n",
        "inputs = tokenizer(\n",
        "    text=source,\n",
        "    text_pair=hypothesis,\n",
        "    return_tensors=\"pt\",\n",
        "    truncation=True,\n",
        "    padding=\"max_length\",\n",
        ")"
      ],
      "metadata": {
        "id": "PQTfCHRlF_KQ"
      },
      "execution_count": null,
      "outputs": []
    },
    {
      "cell_type": "code",
      "source": [
        "# 모델로 번역 품질 점수 예측\n",
        "outputs = model(**inputs)\n",
        "\n",
        "# 로짓(logits)에서 점수 추출\n",
        "logits = outputs.logits\n",
        "# 점수 출력\n",
        "quality_scores = logits.squeeze().tolist()\n",
        "print(f\"Predicted Quality Scores: {quality_scores}\")"
      ],
      "metadata": {
        "id": "xzBR1gHBGBud"
      },
      "execution_count": null,
      "outputs": []
    },
    {
      "cell_type": "markdown",
      "source": [
        "# **inference**"
      ],
      "metadata": {
        "id": "-fkrzhwX2txj"
      }
    },
    {
      "cell_type": "code",
      "source": [
        "# Translation\n",
        "with torch.no_grad():\n",
        "    generated_ids = model.generate(input_ids=input_ids, num_beams=5, max_new_tokens=20, do_sample=True, temperature=0.6, top_p=0.9)\n",
        "outputs = tokenizer.batch_decode(generated_ids, skip_special_tokens=True)"
      ],
      "metadata": {
        "id": "0Yxl7KIt2t4N"
      },
      "execution_count": null,
      "outputs": []
    }
  ]
}